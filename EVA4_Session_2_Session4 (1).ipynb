{
  "nbformat": 4,
  "nbformat_minor": 0,
  "metadata": {
    "colab": {
      "name": "EVA4_Session_2_Session4.ipynb",
      "provenance": [],
      "collapsed_sections": []
    },
    "kernelspec": {
      "name": "python3",
      "display_name": "Python 3"
    },
    "accelerator": "GPU"
  },
  "cells": [
    {
      "cell_type": "code",
      "metadata": {
        "id": "0m2JWFliFfKT",
        "colab_type": "code",
        "colab": {}
      },
      "source": [
        "\n",
        "from __future__ import print_function\n",
        "import torch\n",
        "import torch.nn as nn\n",
        "import torch.nn.functional as F\n",
        "import torch.optim as optim\n",
        "from torchvision import datasets, transforms"
      ],
      "execution_count": 0,
      "outputs": []
    },
    {
      "cell_type": "code",
      "metadata": {
        "id": "WoHrGNcTpxSs",
        "colab_type": "code",
        "colab": {}
      },
      "source": [
        "class Net(nn.Module):\n",
        "    def __init__(self):\n",
        "        super(Net, self).__init__()\n",
        "        #self.c1 = nn.Conv2d(1, 8, 3, padding=1) #RF #input -? OUtput? RF\n",
        "        #self.c2 = nn.Conv2d(8, 16, 3, padding=1) #RF3\n",
        "        #self.c3 = nn.Conv2d(16, 32, 3, padding=1) #RF 5\n",
        "        #self.pool1 = nn.MaxPool2d(2, 2)\n",
        "        #self.c4 = nn.Conv2d(32, 64, 3, padding=1) #RF 10      \n",
        "        #self.c5 = nn.Conv2d(64, 128, 3, padding=1) #RF 12\n",
        "        #self.pool2 = nn.MaxPool2d(2, 2)\n",
        "        #self.c6 = nn.Conv2d(128, 256, 3, padding=1) #RF 24\n",
        "        #self.c7 = nn.Conv2d(256, 512, 3, padding=1) #RF 26\n",
        "        #self.c8= nn.Conv2d(512, 10, 3) #RF 28\n",
        "        #self.avg_pool = nn.AvgPool2d(kernel_size=3)\n",
        "        \n",
        "        self.c1 = nn.Conv2d(1, 8, 3, padding=1) #RF #input -? OUtput? RF\n",
        "        self.bn1 = nn.BatchNorm2d(8)\n",
        "        self.dropout1 = nn.Dropout(0.15)\n",
        "        self.c2 = nn.Conv2d(8, 16, 3, padding=1) #RF3\n",
        "        self.bn2 = nn.BatchNorm2d(16)\n",
        "        self.dropout2 = nn.Dropout(0.15)\n",
        "        self.c3 = nn.Conv2d(16, 16, 3, padding=1) #RF 5\n",
        "        self.bn3 = nn.BatchNorm2d(16)\n",
        "        self.dropout3 = nn.Dropout(0.15)\n",
        "\n",
        "        self.pool1 = nn.MaxPool2d(2, 2)\n",
        "        \n",
        "\n",
        "        self.c4 = nn.Conv2d(16, 16, 3, padding=1) #RF 10 \n",
        "        self.bn4 = nn.BatchNorm2d(16)     \n",
        "        self.dropout4 = nn.Dropout(0.15)\n",
        "        self.c5 = nn.Conv2d(16, 16, 3, padding=1) #RF 12\n",
        "        self.bn5 = nn.BatchNorm2d(16)\n",
        "        self.dropout5 = nn.Dropout(0.15)\n",
        "\n",
        "        self.pool2 = nn.MaxPool2d(2, 2)\n",
        "        \n",
        "\n",
        "        self.c6 = nn.Conv2d(16, 16, 3, padding=1) #RF 24\n",
        "        self.bn6 = nn.BatchNorm2d(16)\n",
        "        self.dropout6 = nn.Dropout(0.15)\n",
        "\n",
        "        self.c7 = nn.Conv2d(16, 32, 3, padding=1) #RF 26\n",
        "        self.bn7 = nn.BatchNorm2d(32)\n",
        "        self.dropout7 = nn.Dropout(0.15)\n",
        "\n",
        "        self.c8= nn.Conv2d(32, 10, 3) #RF 28\n",
        "        self.avg_pool = nn.AvgPool2d(kernel_size=3)\n",
        "     \n",
        "              \n",
        "\n",
        "    def forward(self, x):\n",
        "        #x = self.pool1(F.relu(self.c3(F.relu(self.c2(self.c1(x))))))\n",
        "        #x = self.pool2(F.relu(self.c5(F.relu(self.c4(x)))))\n",
        "        #x = F.relu(self.c7(F.relu(self.c6(x))))\n",
        "        #x = F.relu(self.c8(x))\n",
        "        #x = self.avg_pool(x)\n",
        "        #x = x.view(-1, 10)\n",
        "        #return F.log_softmax(x)\n",
        "        #x = self.pool1(self.bn3(F.relu(self.c3(self.bn2(F.relu(self.c2(self.bn1(F.relu(self.c1(x))))))))))\n",
        "        #x = self.pool2(self.bn5(F.relu(self.c5(self.bn4(F.relu(self.c4(x)))))))\n",
        "        #x = self.bn7(F.relu(self.c7(self.bn6(F.relu(self.c6(x))))))\n",
        "        #x = F.relu(self.c8(x))\n",
        "        #x = self.avg_pool(x)\n",
        "        #x = x.view(-1, 10)\n",
        "        #return F.log_softmax(x)\n",
        "        x = self.pool1(self.dropout3(self.bn3(F.relu(self.c3(self.dropout2(self.bn2(F.relu(self.c2(self.dropout1(self.bn1(F.relu(self.c1(x)))))))))))))\n",
        "        x = self.pool2(self.dropout5(self.bn5(F.relu(self.c5(self.dropout4(self.bn4(F.relu(self.c4(x)))))))))\n",
        "        x = self.dropout7(self.bn7(F.relu(self.c7(self.dropout6(self.bn6(F.relu(self.c6(x))))))))\n",
        "        x = F.relu(self.c8(x))\n",
        "        x = self.avg_pool(x)\n",
        "        x = x.view(-1, 10)\n",
        "        return F.log_softmax(x)"
      ],
      "execution_count": 0,
      "outputs": []
    },
    {
      "cell_type": "code",
      "metadata": {
        "colab_type": "code",
        "id": "xdydjYTZFyi3",
        "outputId": "05cfcc16-c8ba-47cc-f929-45b85086b03b",
        "colab": {
          "base_uri": "https://localhost:8080/",
          "height": 747
        }
      },
      "source": [
        "!pip install torchsummary\n",
        "from torchsummary import summary\n",
        "use_cuda = torch.cuda.is_available()\n",
        "device = torch.device(\"cuda\" if use_cuda else \"cpu\")\n",
        "model = Net().to(device)\n",
        "summary(model, input_size=(1, 28, 28))"
      ],
      "execution_count": 20,
      "outputs": [
        {
          "output_type": "stream",
          "text": [
            "Requirement already satisfied: torchsummary in /usr/local/lib/python3.6/dist-packages (1.5.1)\n",
            "----------------------------------------------------------------\n",
            "        Layer (type)               Output Shape         Param #\n",
            "================================================================\n",
            "            Conv2d-1            [-1, 8, 28, 28]              80\n",
            "       BatchNorm2d-2            [-1, 8, 28, 28]              16\n",
            "           Dropout-3            [-1, 8, 28, 28]               0\n",
            "            Conv2d-4           [-1, 16, 28, 28]           1,168\n",
            "       BatchNorm2d-5           [-1, 16, 28, 28]              32\n",
            "           Dropout-6           [-1, 16, 28, 28]               0\n",
            "            Conv2d-7           [-1, 16, 28, 28]           2,320\n",
            "       BatchNorm2d-8           [-1, 16, 28, 28]              32\n",
            "           Dropout-9           [-1, 16, 28, 28]               0\n",
            "        MaxPool2d-10           [-1, 16, 14, 14]               0\n",
            "           Conv2d-11           [-1, 16, 14, 14]           2,320\n",
            "      BatchNorm2d-12           [-1, 16, 14, 14]              32\n",
            "          Dropout-13           [-1, 16, 14, 14]               0\n",
            "           Conv2d-14           [-1, 16, 14, 14]           2,320\n",
            "      BatchNorm2d-15           [-1, 16, 14, 14]              32\n",
            "          Dropout-16           [-1, 16, 14, 14]               0\n",
            "        MaxPool2d-17             [-1, 16, 7, 7]               0\n",
            "           Conv2d-18             [-1, 16, 7, 7]           2,320\n",
            "      BatchNorm2d-19             [-1, 16, 7, 7]              32\n",
            "          Dropout-20             [-1, 16, 7, 7]               0\n",
            "           Conv2d-21             [-1, 32, 7, 7]           4,640\n",
            "      BatchNorm2d-22             [-1, 32, 7, 7]              64\n",
            "          Dropout-23             [-1, 32, 7, 7]               0\n",
            "           Conv2d-24             [-1, 10, 5, 5]           2,890\n",
            "        AvgPool2d-25             [-1, 10, 1, 1]               0\n",
            "================================================================\n",
            "Total params: 18,298\n",
            "Trainable params: 18,298\n",
            "Non-trainable params: 0\n",
            "----------------------------------------------------------------\n",
            "Input size (MB): 0.00\n",
            "Forward/backward pass size (MB): 0.95\n",
            "Params size (MB): 0.07\n",
            "Estimated Total Size (MB): 1.02\n",
            "----------------------------------------------------------------\n"
          ],
          "name": "stdout"
        },
        {
          "output_type": "stream",
          "text": [
            "/usr/local/lib/python3.6/dist-packages/ipykernel_launcher.py:73: UserWarning: Implicit dimension choice for log_softmax has been deprecated. Change the call to include dim=X as an argument.\n"
          ],
          "name": "stderr"
        }
      ]
    },
    {
      "cell_type": "code",
      "metadata": {
        "id": "DqTWLaM5GHgH",
        "colab_type": "code",
        "colab": {}
      },
      "source": [
        "torch.manual_seed(1)\n",
        "batch_size = 128\n",
        "\n",
        "kwargs = {'num_workers': 1, 'pin_memory': True} if use_cuda else {}\n",
        "train_loader = torch.utils.data.DataLoader(\n",
        "    datasets.MNIST('../data', train=True, download=True,\n",
        "                    transform=transforms.Compose([\n",
        "                        transforms.ToTensor(),\n",
        "                        transforms.Normalize((0.1307,), (0.3081,))\n",
        "                    ])),\n",
        "    batch_size=batch_size, shuffle=True, **kwargs)\n",
        "test_loader = torch.utils.data.DataLoader(\n",
        "    datasets.MNIST('../data', train=False, transform=transforms.Compose([\n",
        "                        transforms.ToTensor(),\n",
        "                        transforms.Normalize((0.1307,), (0.3081,))\n",
        "                    ])),\n",
        "    batch_size=batch_size, shuffle=True, **kwargs)\n"
      ],
      "execution_count": 0,
      "outputs": []
    },
    {
      "cell_type": "code",
      "metadata": {
        "id": "8fDefDhaFlwH",
        "colab_type": "code",
        "colab": {}
      },
      "source": [
        "from tqdm import tqdm\n",
        "def train(model, device, train_loader, optimizer, epoch):\n",
        "    model.train()\n",
        "    pbar = tqdm(train_loader)\n",
        "    for batch_idx, (data, target) in enumerate(pbar):\n",
        "        data, target = data.to(device), target.to(device)\n",
        "        optimizer.zero_grad()\n",
        "        output = model(data)\n",
        "        loss = F.nll_loss(output, target)\n",
        "        loss.backward()\n",
        "        optimizer.step()\n",
        "        pbar.set_description(desc= f'loss={loss.item()} batch_id={batch_idx}')\n",
        "\n",
        "\n",
        "def test(model, device, test_loader):\n",
        "    model.eval()\n",
        "    test_loss = 0\n",
        "    correct = 0\n",
        "    with torch.no_grad():\n",
        "        for data, target in test_loader:\n",
        "            data, target = data.to(device), target.to(device)\n",
        "            output = model(data)\n",
        "            test_loss += F.nll_loss(output, target, reduction='sum').item()  # sum up batch loss\n",
        "            pred = output.argmax(dim=1, keepdim=True)  # get the index of the max log-probability\n",
        "            correct += pred.eq(target.view_as(pred)).sum().item()\n",
        "\n",
        "    test_loss /= len(test_loader.dataset)\n",
        "\n",
        "    print('\\nTest set: Average loss: {:.4f}, Accuracy: {}/{} ({:.0f}%)\\n'.format(\n",
        "        test_loss, correct, len(test_loader.dataset),\n",
        "        100. * correct / len(test_loader.dataset)))"
      ],
      "execution_count": 0,
      "outputs": []
    },
    {
      "cell_type": "code",
      "metadata": {
        "id": "MMWbLWO6FuHb",
        "colab_type": "code",
        "outputId": "c2242b4a-4847-4336-9856-ca1d7769bf8f",
        "colab": {
          "base_uri": "https://localhost:8080/",
          "height": 925
        }
      },
      "source": [
        "\n",
        "model = Net().to(device)\n",
        "optimizer = optim.SGD(model.parameters(), lr=0.01, momentum=0.9)\n",
        "\n",
        "for epoch in range(1, 20):\n",
        "    train(model, device, train_loader, optimizer, epoch)\n",
        "    test(model, device, test_loader)"
      ],
      "execution_count": 0,
      "outputs": [
        {
          "output_type": "stream",
          "text": [
            "  0%|          | 0/469 [00:00<?, ?it/s]/usr/local/lib/python3.6/dist-packages/ipykernel_launcher.py:73: UserWarning: Implicit dimension choice for log_softmax has been deprecated. Change the call to include dim=X as an argument.\n",
            "loss=0.06451082974672318 batch_id=468: 100%|██████████| 469/469 [00:13<00:00, 36.06it/s]\n",
            "  0%|          | 0/469 [00:00<?, ?it/s]"
          ],
          "name": "stderr"
        },
        {
          "output_type": "stream",
          "text": [
            "\n",
            "Test set: Average loss: 0.0862, Accuracy: 9745/10000 (97%)\n",
            "\n"
          ],
          "name": "stdout"
        },
        {
          "output_type": "stream",
          "text": [
            "loss=0.026411667466163635 batch_id=468: 100%|██████████| 469/469 [00:13<00:00, 35.67it/s]\n",
            "  0%|          | 0/469 [00:00<?, ?it/s]"
          ],
          "name": "stderr"
        },
        {
          "output_type": "stream",
          "text": [
            "\n",
            "Test set: Average loss: 0.0737, Accuracy: 9769/10000 (98%)\n",
            "\n"
          ],
          "name": "stdout"
        },
        {
          "output_type": "stream",
          "text": [
            "loss=0.06695422530174255 batch_id=468: 100%|██████████| 469/469 [00:13<00:00, 35.91it/s]\n",
            "  0%|          | 0/469 [00:00<?, ?it/s]"
          ],
          "name": "stderr"
        },
        {
          "output_type": "stream",
          "text": [
            "\n",
            "Test set: Average loss: 0.0453, Accuracy: 9859/10000 (99%)\n",
            "\n"
          ],
          "name": "stdout"
        },
        {
          "output_type": "stream",
          "text": [
            "loss=0.037659939378499985 batch_id=468: 100%|██████████| 469/469 [00:13<00:00, 35.63it/s]\n",
            "  0%|          | 0/469 [00:00<?, ?it/s]"
          ],
          "name": "stderr"
        },
        {
          "output_type": "stream",
          "text": [
            "\n",
            "Test set: Average loss: 0.0382, Accuracy: 9885/10000 (99%)\n",
            "\n"
          ],
          "name": "stdout"
        },
        {
          "output_type": "stream",
          "text": [
            "loss=0.0374058373272419 batch_id=468: 100%|██████████| 469/469 [00:12<00:00, 36.11it/s]\n",
            "  0%|          | 0/469 [00:00<?, ?it/s]"
          ],
          "name": "stderr"
        },
        {
          "output_type": "stream",
          "text": [
            "\n",
            "Test set: Average loss: 0.0372, Accuracy: 9884/10000 (99%)\n",
            "\n"
          ],
          "name": "stdout"
        },
        {
          "output_type": "stream",
          "text": [
            "loss=0.02506369911134243 batch_id=468: 100%|██████████| 469/469 [00:13<00:00, 35.29it/s]\n",
            "  0%|          | 0/469 [00:00<?, ?it/s]"
          ],
          "name": "stderr"
        },
        {
          "output_type": "stream",
          "text": [
            "\n",
            "Test set: Average loss: 0.0329, Accuracy: 9894/10000 (99%)\n",
            "\n"
          ],
          "name": "stdout"
        },
        {
          "output_type": "stream",
          "text": [
            "loss=0.1047673150897026 batch_id=468: 100%|██████████| 469/469 [00:13<00:00, 35.12it/s]\n",
            "  0%|          | 0/469 [00:00<?, ?it/s]"
          ],
          "name": "stderr"
        },
        {
          "output_type": "stream",
          "text": [
            "\n",
            "Test set: Average loss: 0.0257, Accuracy: 9923/10000 (99%)\n",
            "\n"
          ],
          "name": "stdout"
        },
        {
          "output_type": "stream",
          "text": [
            "loss=0.017488231882452965 batch_id=468: 100%|██████████| 469/469 [00:13<00:00, 34.72it/s]\n",
            "  0%|          | 0/469 [00:00<?, ?it/s]"
          ],
          "name": "stderr"
        },
        {
          "output_type": "stream",
          "text": [
            "\n",
            "Test set: Average loss: 0.0234, Accuracy: 9923/10000 (99%)\n",
            "\n"
          ],
          "name": "stdout"
        },
        {
          "output_type": "stream",
          "text": [
            "loss=0.002746542217209935 batch_id=468: 100%|██████████| 469/469 [00:13<00:00, 34.50it/s]\n",
            "  0%|          | 0/469 [00:00<?, ?it/s]"
          ],
          "name": "stderr"
        },
        {
          "output_type": "stream",
          "text": [
            "\n",
            "Test set: Average loss: 0.0221, Accuracy: 9931/10000 (99%)\n",
            "\n"
          ],
          "name": "stdout"
        },
        {
          "output_type": "stream",
          "text": [
            "loss=0.016300225630402565 batch_id=468: 100%|██████████| 469/469 [00:13<00:00, 34.89it/s]\n",
            "  0%|          | 0/469 [00:00<?, ?it/s]"
          ],
          "name": "stderr"
        },
        {
          "output_type": "stream",
          "text": [
            "\n",
            "Test set: Average loss: 0.0251, Accuracy: 9919/10000 (99%)\n",
            "\n"
          ],
          "name": "stdout"
        },
        {
          "output_type": "stream",
          "text": [
            "loss=0.03941475227475166 batch_id=468: 100%|██████████| 469/469 [00:13<00:00, 35.01it/s]\n",
            "  0%|          | 0/469 [00:00<?, ?it/s]"
          ],
          "name": "stderr"
        },
        {
          "output_type": "stream",
          "text": [
            "\n",
            "Test set: Average loss: 0.0253, Accuracy: 9913/10000 (99%)\n",
            "\n"
          ],
          "name": "stdout"
        },
        {
          "output_type": "stream",
          "text": [
            "loss=0.005903711076825857 batch_id=468: 100%|██████████| 469/469 [00:13<00:00, 34.87it/s]\n",
            "  0%|          | 0/469 [00:00<?, ?it/s]"
          ],
          "name": "stderr"
        },
        {
          "output_type": "stream",
          "text": [
            "\n",
            "Test set: Average loss: 0.0263, Accuracy: 9914/10000 (99%)\n",
            "\n"
          ],
          "name": "stdout"
        },
        {
          "output_type": "stream",
          "text": [
            "loss=0.011858056299388409 batch_id=468: 100%|██████████| 469/469 [00:13<00:00, 34.60it/s]\n"
          ],
          "name": "stderr"
        }
      ]
    },
    {
      "cell_type": "code",
      "metadata": {
        "id": "So5uk4EkHW6R",
        "colab_type": "code",
        "colab": {}
      },
      "source": [
        ""
      ],
      "execution_count": 0,
      "outputs": []
    }
  ]
}